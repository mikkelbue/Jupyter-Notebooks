{
 "cells": [
  {
   "cell_type": "code",
   "execution_count": 2,
   "metadata": {},
   "outputs": [],
   "source": [
    "# This notebook is inspired by the times tables visualisation shown in https://www.youtube.com/watch?v=qhbuKbxJsk8\n",
    "\n",
    "import numpy as np\n",
    "import matplotlib.pyplot as plt\n",
    "from matplotlib import collections as mc\n",
    "\n",
    "from ipywidgets import interactive"
   ]
  },
  {
   "cell_type": "code",
   "execution_count": 3,
   "metadata": {},
   "outputs": [],
   "source": [
    "# Connect a vector to the modulus-result of its multiplication\n",
    "def connect(startpoint_vector, times):\n",
    "    endpoint_vector = times*startpoint_vector%startpoint_vector.size\n",
    "    return endpoint_vector"
   ]
  },
  {
   "cell_type": "code",
   "execution_count": 4,
   "metadata": {},
   "outputs": [],
   "source": [
    "# Convert list of numbers to coordinates along a unit circle arch.\n",
    "def circle_plotter(vector):\n",
    "    alpha = 2*np.pi/vector.size\n",
    "    x = np.cos(vector*alpha)\n",
    "    y = np.sin(vector*alpha)\n",
    "    coord_list = np.vstack((x, y)).transpose()\n",
    "    return coord_list"
   ]
  },
  {
   "cell_type": "code",
   "execution_count": 5,
   "metadata": {},
   "outputs": [],
   "source": [
    "# Plot times tables in a circle, as shown in https://www.youtube.com/watch?v=qhbuKbxJsk8\n",
    "def string_plotter(multiplier = 2.0, maximum = 200):\n",
    "    startpoint_vector = np.arange(0, maximum)\n",
    "    endpoint_vector = connect(startpoint_vector, multiplier)\n",
    "    \n",
    "    startpoint_vector_coords = circle_plotter(startpoint_vector)\n",
    "    endpoint_vector_coords = circle_plotter(endpoint_vector)\n",
    "    \n",
    "    lines = [[startpoint_vector_coords[i], endpoint_vector_coords[i]] for i in range(maximum)]\n",
    "    \n",
    "    lc = mc.LineCollection(lines, colors = 'k', linewidths = 1)\n",
    "    \n",
    "    fig, ax = plt.subplots(figsize = (16,16))\n",
    "    ax.add_collection(lc)\n",
    "    ax.autoscale()\n",
    "    plt.show()"
   ]
  },
  {
   "cell_type": "code",
   "execution_count": 6,
   "metadata": {},
   "outputs": [
    {
     "data": {
      "application/vnd.jupyter.widget-view+json": {
       "model_id": "db51bf8143894f539755b48a06591573",
       "version_major": 2,
       "version_minor": 0
      },
      "text/plain": [
       "interactive(children=(FloatSlider(value=2.0, description='multiplier', max=200.0, min=2.0), IntSlider(value=20…"
      ]
     },
     "metadata": {},
     "output_type": "display_data"
    }
   ],
   "source": [
    "ia = interactive(string_plotter, multiplier = (2.0, 200.0), maximum = (10, 1000))\n",
    "display(ia)"
   ]
  },
  {
   "cell_type": "code",
   "execution_count": null,
   "metadata": {},
   "outputs": [],
   "source": []
  }
 ],
 "metadata": {
  "kernelspec": {
   "display_name": "Python 3",
   "language": "python",
   "name": "python3"
  },
  "language_info": {
   "codemirror_mode": {
    "name": "ipython",
    "version": 3
   },
   "file_extension": ".py",
   "mimetype": "text/x-python",
   "name": "python",
   "nbconvert_exporter": "python",
   "pygments_lexer": "ipython3",
   "version": "3.6.9"
  }
 },
 "nbformat": 4,
 "nbformat_minor": 4
}
