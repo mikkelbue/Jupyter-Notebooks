{
 "cells": [
  {
   "cell_type": "markdown",
   "metadata": {},
   "source": [
    "## MarkovSCIENCE:\n",
    "Generate glorious research article titles about ANY topic!"
   ]
  },
  {
   "cell_type": "markdown",
   "metadata": {},
   "source": [
    "Import some libraries"
   ]
  },
  {
   "cell_type": "code",
   "execution_count": 2,
   "metadata": {},
   "outputs": [],
   "source": [
    "import urllib.request                # For opening urls.\n",
    "import xml.etree.ElementTree as ET   # For parsing XML-data.\n",
    "import markovify                     # For building a Markov model."
   ]
  },
  {
   "cell_type": "markdown",
   "metadata": {},
   "source": [
    "Get titles from arXiv.org, according to some search term. urllib.request.urlopen(url).read() returns an XML-file, from which the titles are extracted."
   ]
  },
  {
   "cell_type": "code",
   "execution_count": 3,
   "metadata": {},
   "outputs": [],
   "source": [
    "def get_titles(search_term, n):\n",
    "    url = 'http://export.arxiv.org/api/query?search_query=all:' + search_term + '&start=0&max_results=' + str(n)\n",
    "    data = urllib.request.urlopen(url).read()\n",
    "    tree = ET.fromstring(data)\n",
    "    titles = []\n",
    "    for i in range(7, 7 + n):\n",
    "        try:\n",
    "            titles.append(tree[i][3].text.replace('\\n', ''))\n",
    "        except IndexError:\n",
    "            pass\n",
    "    return titles"
   ]
  },
  {
   "cell_type": "markdown",
   "metadata": {},
   "source": [
    "List the search terms"
   ]
  },
  {
   "cell_type": "code",
   "execution_count": 4,
   "metadata": {},
   "outputs": [],
   "source": [
    "topics = ['artificial', 'intelligence', 'machine', 'learning', 'climate', 'change', 'data']"
   ]
  },
  {
   "cell_type": "markdown",
   "metadata": {},
   "source": [
    "Loop through the search terms and add all returned titles to the titles list. This may take a while, depending on the number of titles."
   ]
  },
  {
   "cell_type": "code",
   "execution_count": 5,
   "metadata": {},
   "outputs": [
    {
     "name": "stdout",
     "output_type": "stream",
     "text": [
      "(1/7) Reading research articles about: \"artificial\"...\n",
      "(2/7) Reading research articles about: \"intelligence\"...\n",
      "(3/7) Reading research articles about: \"machine\"...\n",
      "(4/7) Reading research articles about: \"learning\"...\n",
      "(5/7) Reading research articles about: \"climate\"...\n",
      "(6/7) Reading research articles about: \"change\"...\n",
      "(7/7) Reading research articles about: \"data\"...\n",
      "\n",
      "Found 7000 articles\n"
     ]
    }
   ],
   "source": [
    "number_of_titles = 1000\n",
    "\n",
    "titles = []\n",
    "\n",
    "for i, topic in enumerate(topics):\n",
    "    print('({}/{}) Reading research articles about: \"{}\"...'.format(i + 1, len(topics), topic))\n",
    "    titles += get_titles(topic, number_of_titles)\n",
    "\n",
    "print('\\nFound {} articles'.format(len(titles)))"
   ]
  },
  {
   "cell_type": "markdown",
   "metadata": {},
   "source": [
    "Create a Markov model."
   ]
  },
  {
   "cell_type": "code",
   "execution_count": 6,
   "metadata": {},
   "outputs": [],
   "source": [
    "text_model = markovify.Text(titles)"
   ]
  },
  {
   "cell_type": "markdown",
   "metadata": {},
   "source": [
    "Generate some scientific article titles."
   ]
  },
  {
   "cell_type": "code",
   "execution_count": 7,
   "metadata": {},
   "outputs": [
    {
     "name": "stdout",
     "output_type": "stream",
     "text": [
      "Data Privacy and Sharing the Data in the Loop\n",
      "The What, the Why, and the How of Artificial Intelligence IQ and Standard Intelligent Model\n",
      "On region crossing change on the Atmospheric Circulation: a Thermodynamic Perspective\n",
      "The ParallelEye Dataset: Constructing Large-Scale Artificial Scenes for Traffic Control in Data Curation as Service in a Cognitive Game Scenario\n",
      "Memory Based Machine Intelligence Through Visual and Acoustic Stimulation Speech Using Machine Learning\n",
      "On the Relative Trust between Inconsistent Data and Metadata Integration for Warehousing Complex Data\n",
      "Relativistic Artificial Molecules Realized by Two Coupled Graphene Quantum Dots and Artificial Reference Pictures\n",
      "Regret Bounds for Two-Sample Structural Change Accompanied by Yb Valence Transition in YbInCu4\n",
      "Detecting gradual changes in satellite knots\n",
      "Decomposing Real Wage Changes in Time Series\n",
      "Towards a Rigorous Evaluation of XAI Methods on Time Series with Change Point Detection\n",
      "Sufficient conditions for convergence of stationary Fokker-Planck learning\n",
      "Comparison of Cusum and Shiryaev-Roberts Procedures for Compiling Influence Diagrams to Junction Trees\n",
      "Oceanic El-Niño wave dynamics and fluid mechanics: Natural variability and biases of the Bolshoi and Millennium simulations\n",
      "Quantifying the uncertainties in an evolutionary model for solar flares activity in solar cycle\n",
      "Two tests for assessing climate policy instruments in the Distribution of Casualties and Determination of orbital variations in Portugal over the Baker-Gill-Solovay set of curves changes\n",
      "Probabilistic Dimensionality Reduction Methods in Algorithmic Composition: A Comprehensive Survey\n",
      "State-domain Change Point Estimation in a quantum change point in a Human Brain\n",
      "Separating an Outlier from a General Circulation Model for Robust and Beneficial Artificial Intelligence Research\n",
      "A Convex Formulation for Learning Hidden Markov Model\n"
     ]
    }
   ],
   "source": [
    "for i in range(20):\n",
    "    print(text_model.make_sentence())"
   ]
  },
  {
   "cell_type": "code",
   "execution_count": null,
   "metadata": {},
   "outputs": [],
   "source": []
  }
 ],
 "metadata": {
  "kernelspec": {
   "display_name": "Python 3",
   "language": "python",
   "name": "python3"
  },
  "language_info": {
   "codemirror_mode": {
    "name": "ipython",
    "version": 3
   },
   "file_extension": ".py",
   "mimetype": "text/x-python",
   "name": "python",
   "nbconvert_exporter": "python",
   "pygments_lexer": "ipython3",
   "version": "3.6.8"
  }
 },
 "nbformat": 4,
 "nbformat_minor": 2
}
